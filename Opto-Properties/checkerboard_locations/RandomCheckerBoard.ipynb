{
 "cells": [
  {
   "cell_type": "markdown",
   "metadata": {},
   "source": [
    "# Experiment with generating random checkerboards"
   ]
  },
  {
   "cell_type": "code",
   "execution_count": 1,
   "metadata": {},
   "outputs": [],
   "source": [
    "import os\n",
    "import numpy as np\n",
    "import matplotlib.pyplot as plt\n",
    "from PIL import Image"
   ]
  },
  {
   "cell_type": "code",
   "execution_count": 2,
   "metadata": {},
   "outputs": [
    {
     "data": {
      "text/plain": [
       "<matplotlib.image.AxesImage at 0x7f01ec3a9d30>"
      ]
     },
     "execution_count": 2,
     "metadata": {},
     "output_type": "execute_result"
    },
    {
     "data": {
      "image/png": "[encoded data removed]",
      "text/plain": [
       "<Figure size 640x480 with 1 Axes>"
      ]
     },
     "metadata": {},
     "output_type": "display_data"
    }
   ],
   "source": [
    "# generate a random checkerboard pattern image\n",
    "# user should specify the x and y dimensions of the image, and the size of the checkerboard squares\n",
    "\n",
    "def generate_checkerboard(x_dim, y_dim, square_size, density=0.5):\n",
    "    # create an empty image\n",
    "    img = np.zeros((y_dim, x_dim))\n",
    "\n",
    "    # determine the number of squares in each direction\n",
    "    x_squares = x_dim // square_size\n",
    "    y_squares = y_dim // square_size\n",
    "\n",
    "    # fill in the image with the checkerboard pattern\n",
    "    for i in range(x_squares):\n",
    "        for j in range(y_squares):\n",
    "            if np.random.rand(1) < density:\n",
    "                img[j*square_size:(j+1)*square_size, i*square_size:(i+1)*square_size] = 1\n",
    "    \n",
    "    return img\n",
    "\n",
    "test = generate_checkerboard(850, 500, 25, density=0.2)\n",
    "\n",
    "plt.imshow(test, cmap='gray')"
   ]
  },
  {
   "cell_type": "code",
   "execution_count": 3,
   "metadata": {},
   "outputs": [],
   "source": [
    "# save numpy array as bitmap image\n",
    "def save_image(img, filename):\n",
    "    img = Image.fromarray((img * 255).astype(np.uint8))\n",
    "    img.save(filename)\n",
    "\n",
    "save_image(test, 'checkerboard1.png')"
   ]
  },
  {
   "cell_type": "code",
   "execution_count": 4,
   "metadata": {},
   "outputs": [],
   "source": [
    "# # create directory for checkerboards\n",
    "# if not os.path.exists('checkerboards'):\n",
    "#     os.makedirs('checkerboards')\n",
    "\n",
    "# img_num = 20\n",
    "# for i in range(img_num):\n",
    "#     test = generate_checkerboard(835, 500, 25, density=0.2)\n",
    "#     save_image(test, 'checkerboards\\checkerboard_{:03d}.png'.format(i+1))"
   ]
  }
 ],
 "metadata": {
  "kernelspec": {
   "display_name": "bmtk",
   "language": "python",
   "name": "python3"
  },
  "language_info": {
   "codemirror_mode": {
    "name": "ipython",
    "version": 3
   },
   "file_extension": ".py",
   "mimetype": "text/x-python",
   "name": "python",
   "nbconvert_exporter": "python",
   "pygments_lexer": "ipython3",
   "version": "3.8.18"
  }
 },
 "nbformat": 4,
 "nbformat_minor": 2
}
