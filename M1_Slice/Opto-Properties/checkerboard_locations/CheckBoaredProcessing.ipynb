{
 "cells": [
  {
   "cell_type": "markdown",
   "metadata": {},
   "source": [
    "## Orignal board "
   ]
  },
  {
   "cell_type": "code",
   "execution_count": null,
   "metadata": {},
   "outputs": [],
   "source": []
  },
  {
   "cell_type": "code",
   "execution_count": 1,
   "metadata": {},
   "outputs": [
    {
     "data": {
      "image/png": "[encoded data removed]",
      "text/plain": [
       "<Figure size 640x480 with 1 Axes>"
      ]
     },
     "metadata": {},
     "output_type": "display_data"
    }
   ],
   "source": [
    "import numpy as np\n",
    "import matplotlib.pyplot as plt\n",
    "from skimage.transform import resize\n",
    "from PIL import Image\n",
    "import pandas as pd\n",
    "\n",
    "def find_probe_positions(checkerboard_path, x_dim, y_dim, square_size):\n",
    "    im_frame = Image.open(checkerboard_path)\n",
    "    np_array = np.array(im_frame)\n",
    "\n",
    "    # Convert to binary image (assuming white squares are brighter than 128)\n",
    "    binary_image = np_array > 128\n",
    "\n",
    "    # Extract positions of individual squares\n",
    "    square_positions = []\n",
    "    probe_numbers = []\n",
    "    x_squares = x_dim // square_size\n",
    "    y_squares = y_dim // square_size\n",
    "\n",
    "    # Loop over the grid and record the positions of each square\n",
    "    square_number = 1\n",
    "    for j in range(y_squares):  # Loop over rows\n",
    "        for i in range(x_squares):  # Loop over columns\n",
    "            # Check if the current square is white\n",
    "            if np.any(binary_image[j * square_size:(j + 1) * square_size, \n",
    "                                   i * square_size:(i + 1) * square_size] == True):\n",
    "                # Calculate the center position (x, y) of the square\n",
    "                center_x = i * square_size + square_size / 2\n",
    "                center_y = j * square_size + square_size / 2\n",
    "                square_positions.append((center_x, center_y))\n",
    "                probe_numbers.append(square_number)\n",
    "            square_number += 1  # Increment square number for all squares\n",
    "\n",
    "    return binary_image, square_positions, probe_numbers\n",
    "\n",
    "def scale_to_square(checkerboard_img, square_positions, x_dim, y_dim, target_range=(-300, 300)):\n",
    "    # Define the target range (from -300 to 300)\n",
    "    target_width = target_range[1] - target_range[0]\n",
    "    \n",
    "    # Calculate scaling factors for both axes\n",
    "    scale_x = target_width / x_dim\n",
    "    scale_y = target_width / y_dim\n",
    "    \n",
    "    # Calculate new positions\n",
    "    scaled_square_positions = [\n",
    "        ((x - x_dim / 2) * scale_x, (y - y_dim / 2) * scale_y)\n",
    "        for x, y in square_positions\n",
    "    ]\n",
    "\n",
    "    # Scale the checkerboard image\n",
    "    new_checkerboard_img = resize(checkerboard_img, \n",
    "                                  (int(checkerboard_img.shape[0] * scale_y), \n",
    "                                   int(checkerboard_img.shape[1] * scale_x)),\n",
    "                                  mode='constant', anti_aliasing=False)\n",
    "\n",
    "    return new_checkerboard_img, scaled_square_positions\n",
    "\n",
    "# Set parameters\n",
    "x_dim = 850\n",
    "y_dim = 500\n",
    "square_size = 25\n",
    "\n",
    "# Find probe positions\n",
    "checkerboard, probe_positions, probe_numbers = find_probe_positions(\"checkerboard1.png\", x_dim, y_dim, square_size)\n",
    "\n",
    "# Scale the checkerboard and probe positions\n",
    "scaled_checkerboard, scaled_probe_positions = scale_to_square(checkerboard, probe_positions, x_dim, y_dim)\n",
    "\n",
    "# Plot the scaled checkerboard with markers for the square positions\n",
    "#plt.imshow(scaled_checkerboard, cmap='gray')\n",
    "for pos in scaled_probe_positions:\n",
    "    plt.scatter(pos[0], pos[1], color='red', marker='x')\n",
    "\n",
    "plt.show()\n",
    "\n",
    "# Save the positions into a DataFrame\n",
    "pos = np.array(scaled_probe_positions)\n",
    "pos_tran = pos.T\n",
    "depth_of_probe = 1000\n",
    "df = pd.DataFrame({\"probe_number\": probe_numbers, \"X\": pos_tran[0], \"Y\": pos_tran[1], 'Z': depth_of_probe})\n",
    "\n",
    "# Save DataFrame to CSV\n",
    "df.to_csv(\"scaled_probe_positions_checkerboard2.csv\", index=False)\n"
   ]
  },
  {
   "cell_type": "markdown",
   "metadata": {},
   "source": [
    "## These X will be our probe positions, but we need to scale the location of everything to our space Drew does not exactly know how big everything is. He had a guess of the scales being around 10um. This is just a rough scaling for now"
   ]
  },
  {
   "cell_type": "markdown",
   "metadata": {},
   "source": [
    "## We can apply any scale factor now to the checkerboard, and keep the probe positions up to date as well"
   ]
  },
  {
   "cell_type": "markdown",
   "metadata": {},
   "source": [
    "## Lets save the probe positions to a CSV to be read in later"
   ]
  },
  {
   "cell_type": "code",
   "execution_count": null,
   "metadata": {},
   "outputs": [],
   "source": []
  }
 ],
 "metadata": {
  "kernelspec": {
   "display_name": "bmtk",
   "language": "python",
   "name": "python3"
  },
  "language_info": {
   "codemirror_mode": {
    "name": "ipython",
    "version": 3
   },
   "file_extension": ".py",
   "mimetype": "text/x-python",
   "name": "python",
   "nbconvert_exporter": "python",
   "pygments_lexer": "ipython3",
   "version": "3.8.18"
  }
 },
 "nbformat": 4,
 "nbformat_minor": 2
}
